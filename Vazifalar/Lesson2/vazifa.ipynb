{
 "cells": [
  {
   "cell_type": "markdown",
   "id": "195aa580",
   "metadata": {},
   "source": [
    "# Vazifa"
   ]
  },
  {
   "cell_type": "code",
   "execution_count": null,
   "id": "c1adf9c8",
   "metadata": {},
   "outputs": [
    {
     "name": "stdout",
     "output_type": "stream",
     "text": [
      "Sonlarning yig'indisi: 9 ga teng\n"
     ]
    }
   ],
   "source": [
    "# 1. Istalgan 3ta sonni yig'indisini toping.\n",
    "\n",
    "a = int(input('Birinchi sonni kiriting: '))\n",
    "b = int(input('Ikkinchi sonni kiriting: '))\n",
    "c = int(input('Uchinchi sonni kiriting: '))\n",
    "\n",
    "yigindi = a + b + c\n",
    "print(\"Sonlarning yig'indisi:\", yigindi ,\"ga teng\")"
   ]
  },
  {
   "cell_type": "code",
   "execution_count": null,
   "id": "4637fc24",
   "metadata": {},
   "outputs": [
    {
     "name": "stdout",
     "output_type": "stream",
     "text": [
      "Dastlabki 4 ta harf: Salo\n"
     ]
    }
   ],
   "source": [
    "# 2. Berilgan so'zni dastlabki 4 ta xarfini ekranga chiqaring.\n",
    "\n",
    "soz = input(\"So'zni kiriting: \")\n",
    "print(\"Dastlabki 4 ta harf:\", soz[:4])"
   ]
  },
  {
   "cell_type": "code",
   "execution_count": 20,
   "id": "cec3fd64",
   "metadata": {},
   "outputs": [
    {
     "name": "stdout",
     "output_type": "stream",
     "text": [
      "Dastlabki so'zning oxirgi 3 ta harfi: ter\n"
     ]
    }
   ],
   "source": [
    "# 3. Berilgan so'zni oxirgi 3 ta xarfini ekranga chiqaring.\n",
    "\n",
    "soz = input(\"So'zni kiriting: \")\n",
    "print(\"Dastlabki so'zning oxirgi 3 ta harfi:\", soz[-3:])"
   ]
  },
  {
   "cell_type": "code",
   "execution_count": 21,
   "id": "f4296e2d",
   "metadata": {},
   "outputs": [
    {
     "name": "stdout",
     "output_type": "stream",
     "text": [
      "3-chi va 9-chi harflar orasidagi bo'lim: bina\n"
     ]
    }
   ],
   "source": [
    "# 4. Berilgan so'zni 3-chi va 9-chi xarflari orasidagi xarflarini toping.\n",
    "\n",
    "soz = input(\"So'zni kiriting: \")\n",
    "print(\"3-chi va 9-chi harflar orasidagi bo'lim:\", soz[2:9])"
   ]
  },
  {
   "cell_type": "code",
   "execution_count": 25,
   "id": "8c2d4fb7",
   "metadata": {},
   "outputs": [
    {
     "name": "stdout",
     "output_type": "stream",
     "text": [
      "Natija: 243\n"
     ]
    }
   ],
   "source": [
    "# 5. Istalgan sonni istalgan darajasini toping.\n",
    "\n",
    "son = int(input(\"Sonni kiriting: \"))\n",
    "daraja = int(input(\"Darajani kiriting: \"))\n",
    "\n",
    "natija = son ** daraja\n",
    "\n",
    "print(\"Natija:\", natija)"
   ]
  }
 ],
 "metadata": {
  "kernelspec": {
   "display_name": "Python 3",
   "language": "python",
   "name": "python3"
  },
  "language_info": {
   "codemirror_mode": {
    "name": "ipython",
    "version": 3
   },
   "file_extension": ".py",
   "mimetype": "text/x-python",
   "name": "python",
   "nbconvert_exporter": "python",
   "pygments_lexer": "ipython3",
   "version": "3.13.0"
  }
 },
 "nbformat": 4,
 "nbformat_minor": 5
}
